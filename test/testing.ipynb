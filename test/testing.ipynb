{
 "cells": [
  {
   "cell_type": "code",
   "execution_count": null,
   "id": "0444a52b-2c49-4299-ac36-ef25f205672d",
   "metadata": {},
   "outputs": [],
   "source": [
    "!pip install llama-cpp-python\n",
    "!pip install -q gradio"
   ]
  },
  {
   "cell_type": "code",
   "execution_count": null,
   "id": "12014bd4-4fa9-4f03-a98e-76b3755f98a5",
   "metadata": {},
   "outputs": [],
   "source": [
    "from llama_cpp import Llama\n",
    "\n",
    "# Llama 모델 로드\n",
    "llm = Llama.from_pretrained(\n",
    "    repo_id=\"seungjune/RBCadvisor_GemmaFondo_gguf\",\n",
    "    filename=\"unsloth.Q4_K_M.gguf\",\n",
    ")\n",
    "\n",
    "# QA 포맷 정의\n",
    "qa_prompt = \"\"\"다음은 작업을 설명하는 명령입니다. 요청을 적절하게 완료하는 자세한 응답을 작성하세요.\n",
    "\n",
    "### 지침:\n",
    "{}\n",
    "\n",
    "### 응답:\n",
    "\"\"\"\n",
    "\n",
    "EOS_TOKEN = \"<|endoftext|>\"\n",
    "\n",
    "def generate_answer(user_input):\n",
    "    # 입력된 질문을 qa_prompt에 맞게 포맷\n",
    "    formatted_input = qa_prompt.format(user_input, \"\")\n",
    "    \n",
    "    # 모델로부터 답변 생성\n",
    "    outputs = llm(\n",
    "        formatted_input,\n",
    "        max_tokens=64,\n",
    "        stop=[EOS_TOKEN],\n",
    "        temperature=0.7,\n",
    "        top_p=0.9,\n",
    "    )\n",
    "    \n",
    "    # 출력된 답변 추출\n",
    "    return outputs['choices'][0]['text']\n",
    "\n",
    "# 테스트용 코드\n",
    "if __name__ == \"__main__\":\n",
    "    user_input = input(\"질문을 입력하세요: \")\n",
    "    answer = generate_answer(user_input)\n",
    "    print(\"모델의 답변: \", answer)"
   ]
  },
  {
   "cell_type": "code",
   "execution_count": null,
   "id": "d68d8345-6857-4fa4-9d6b-fa32abb82eea",
   "metadata": {},
   "outputs": [],
   "source": []
  }
 ],
 "metadata": {
  "kernelspec": {
   "display_name": "Python 3 (ipykernel)",
   "language": "python",
   "name": "python3"
  },
  "language_info": {
   "codemirror_mode": {
    "name": "ipython",
    "version": 3
   },
   "file_extension": ".py",
   "mimetype": "text/x-python",
   "name": "python",
   "nbconvert_exporter": "python",
   "pygments_lexer": "ipython3",
   "version": "3.10.14"
  },
  "widgets": {
   "application/vnd.jupyter.widget-state+json": {
    "state": {},
    "version_major": 2,
    "version_minor": 0
   }
  }
 },
 "nbformat": 4,
 "nbformat_minor": 5
}
