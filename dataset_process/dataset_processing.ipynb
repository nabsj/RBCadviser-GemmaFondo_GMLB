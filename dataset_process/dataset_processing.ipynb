{
 "cells": [
  {
   "cell_type": "code",
   "execution_count": 17,
   "id": "cbdc5373-956f-4735-9474-63dac52800eb",
   "metadata": {},
   "outputs": [
    {
     "name": "stdout",
     "output_type": "stream",
     "text": [
      "Requirement already satisfied: gensim==3.6.0 in /home/baekkwsl/anaconda3/envs/gmlb/lib/python3.10/site-packages (3.6.0)\n",
      "Requirement already satisfied: numpy>=1.11.3 in /home/baekkwsl/anaconda3/envs/gmlb/lib/python3.10/site-packages (from gensim==3.6.0) (1.26.4)\n",
      "Requirement already satisfied: scipy>=0.18.1 in /home/baekkwsl/anaconda3/envs/gmlb/lib/python3.10/site-packages (from gensim==3.6.0) (1.13.1)\n",
      "Requirement already satisfied: six>=1.5.0 in /home/baekkwsl/anaconda3/envs/gmlb/lib/python3.10/site-packages (from gensim==3.6.0) (1.16.0)\n",
      "Requirement already satisfied: smart-open>=1.2.1 in /home/baekkwsl/anaconda3/envs/gmlb/lib/python3.10/site-packages (from gensim==3.6.0) (7.0.4)\n",
      "Requirement already satisfied: wrapt in /home/baekkwsl/anaconda3/envs/gmlb/lib/python3.10/site-packages (from smart-open>=1.2.1->gensim==3.6.0) (1.16.0)\n",
      "Requirement already satisfied: gensim in /home/baekkwsl/anaconda3/envs/gmlb/lib/python3.10/site-packages (3.6.0)\n",
      "Collecting newspaper3k\n",
      "  Downloading newspaper3k-0.2.8-py3-none-any.whl.metadata (11 kB)\n",
      "Requirement already satisfied: numpy>=1.11.3 in /home/baekkwsl/anaconda3/envs/gmlb/lib/python3.10/site-packages (from gensim) (1.26.4)\n",
      "Requirement already satisfied: scipy>=0.18.1 in /home/baekkwsl/anaconda3/envs/gmlb/lib/python3.10/site-packages (from gensim) (1.13.1)\n",
      "Requirement already satisfied: six>=1.5.0 in /home/baekkwsl/anaconda3/envs/gmlb/lib/python3.10/site-packages (from gensim) (1.16.0)\n",
      "Requirement already satisfied: smart-open>=1.2.1 in /home/baekkwsl/anaconda3/envs/gmlb/lib/python3.10/site-packages (from gensim) (7.0.4)\n",
      "Requirement already satisfied: beautifulsoup4>=4.4.1 in /home/baekkwsl/anaconda3/envs/gmlb/lib/python3.10/site-packages (from newspaper3k) (4.12.3)\n",
      "Requirement already satisfied: Pillow>=3.3.0 in /home/baekkwsl/anaconda3/envs/gmlb/lib/python3.10/site-packages (from newspaper3k) (10.4.0)\n",
      "Requirement already satisfied: PyYAML>=3.11 in /home/baekkwsl/anaconda3/envs/gmlb/lib/python3.10/site-packages (from newspaper3k) (6.0)\n",
      "Collecting cssselect>=0.9.2 (from newspaper3k)\n",
      "  Downloading cssselect-1.2.0-py2.py3-none-any.whl.metadata (2.2 kB)\n",
      "Requirement already satisfied: lxml>=3.6.0 in /home/baekkwsl/anaconda3/envs/gmlb/lib/python3.10/site-packages (from newspaper3k) (5.3.0)\n",
      "Requirement already satisfied: nltk>=3.2.1 in /home/baekkwsl/anaconda3/envs/gmlb/lib/python3.10/site-packages (from newspaper3k) (3.9.1)\n",
      "Requirement already satisfied: requests>=2.10.0 in /home/baekkwsl/anaconda3/envs/gmlb/lib/python3.10/site-packages (from newspaper3k) (2.32.3)\n",
      "Collecting feedparser>=5.2.1 (from newspaper3k)\n",
      "  Downloading feedparser-6.0.11-py3-none-any.whl.metadata (2.4 kB)\n",
      "Collecting tldextract>=2.0.1 (from newspaper3k)\n",
      "  Downloading tldextract-5.1.2-py3-none-any.whl.metadata (11 kB)\n",
      "Collecting feedfinder2>=0.0.4 (from newspaper3k)\n",
      "  Downloading feedfinder2-0.0.4.tar.gz (3.3 kB)\n",
      "  Preparing metadata (setup.py) ... \u001b[?25ldone\n",
      "\u001b[?25hCollecting jieba3k>=0.35.1 (from newspaper3k)\n",
      "  Downloading jieba3k-0.35.1.zip (7.4 MB)\n",
      "\u001b[2K     \u001b[90m━━━━━━━━━━━━━━━━━━━━━━━━━━━━━━━━━━━━━━━━\u001b[0m \u001b[32m7.4/7.4 MB\u001b[0m \u001b[31m44.3 MB/s\u001b[0m eta \u001b[36m0:00:00\u001b[0m\n",
      "\u001b[?25h  Preparing metadata (setup.py) ... \u001b[?25ldone\n",
      "\u001b[?25hRequirement already satisfied: python-dateutil>=2.5.3 in /home/baekkwsl/anaconda3/envs/gmlb/lib/python3.10/site-packages (from newspaper3k) (2.9.0.post0)\n",
      "Collecting tinysegmenter==0.3 (from newspaper3k)\n",
      "  Downloading tinysegmenter-0.3.tar.gz (16 kB)\n",
      "  Preparing metadata (setup.py) ... \u001b[?25ldone\n",
      "\u001b[?25hRequirement already satisfied: soupsieve>1.2 in /home/baekkwsl/anaconda3/envs/gmlb/lib/python3.10/site-packages (from beautifulsoup4>=4.4.1->newspaper3k) (2.6)\n",
      "Collecting sgmllib3k (from feedparser>=5.2.1->newspaper3k)\n",
      "  Downloading sgmllib3k-1.0.0.tar.gz (5.8 kB)\n",
      "  Preparing metadata (setup.py) ... \u001b[?25ldone\n",
      "\u001b[?25hRequirement already satisfied: click in /home/baekkwsl/anaconda3/envs/gmlb/lib/python3.10/site-packages (from nltk>=3.2.1->newspaper3k) (8.1.7)\n",
      "Requirement already satisfied: joblib in /home/baekkwsl/anaconda3/envs/gmlb/lib/python3.10/site-packages (from nltk>=3.2.1->newspaper3k) (1.4.2)\n",
      "Requirement already satisfied: regex>=2021.8.3 in /home/baekkwsl/anaconda3/envs/gmlb/lib/python3.10/site-packages (from nltk>=3.2.1->newspaper3k) (2024.7.24)\n",
      "Requirement already satisfied: tqdm in /home/baekkwsl/anaconda3/envs/gmlb/lib/python3.10/site-packages (from nltk>=3.2.1->newspaper3k) (4.66.5)\n",
      "Requirement already satisfied: charset-normalizer<4,>=2 in /home/baekkwsl/anaconda3/envs/gmlb/lib/python3.10/site-packages (from requests>=2.10.0->newspaper3k) (3.3.2)\n",
      "Requirement already satisfied: idna<4,>=2.5 in /home/baekkwsl/anaconda3/envs/gmlb/lib/python3.10/site-packages (from requests>=2.10.0->newspaper3k) (3.8)\n",
      "Requirement already satisfied: urllib3<3,>=1.21.1 in /home/baekkwsl/anaconda3/envs/gmlb/lib/python3.10/site-packages (from requests>=2.10.0->newspaper3k) (2.2.2)\n",
      "Requirement already satisfied: certifi>=2017.4.17 in /home/baekkwsl/anaconda3/envs/gmlb/lib/python3.10/site-packages (from requests>=2.10.0->newspaper3k) (2024.8.30)\n",
      "Requirement already satisfied: wrapt in /home/baekkwsl/anaconda3/envs/gmlb/lib/python3.10/site-packages (from smart-open>=1.2.1->gensim) (1.16.0)\n",
      "Collecting requests-file>=1.4 (from tldextract>=2.0.1->newspaper3k)\n",
      "  Downloading requests_file-2.1.0-py2.py3-none-any.whl.metadata (1.7 kB)\n",
      "Requirement already satisfied: filelock>=3.0.8 in /home/baekkwsl/anaconda3/envs/gmlb/lib/python3.10/site-packages (from tldextract>=2.0.1->newspaper3k) (3.16.0)\n",
      "Downloading newspaper3k-0.2.8-py3-none-any.whl (211 kB)\n",
      "Downloading cssselect-1.2.0-py2.py3-none-any.whl (18 kB)\n",
      "Downloading feedparser-6.0.11-py3-none-any.whl (81 kB)\n",
      "Downloading tldextract-5.1.2-py3-none-any.whl (97 kB)\n",
      "Downloading requests_file-2.1.0-py2.py3-none-any.whl (4.2 kB)\n",
      "Building wheels for collected packages: tinysegmenter, feedfinder2, jieba3k, sgmllib3k\n",
      "  Building wheel for tinysegmenter (setup.py) ... \u001b[?25ldone\n",
      "\u001b[?25h  Created wheel for tinysegmenter: filename=tinysegmenter-0.3-py3-none-any.whl size=13542 sha256=bb1b0f5c12576dac13567939f35ce9e74a5dca1222528f419009cad168413e2d\n",
      "  Stored in directory: /home/baekkwsl/.cache/pip/wheels/c8/d6/6c/384f58df48c00b9a31d638005143b5b3ac62c3d25fb1447f23\n",
      "  Building wheel for feedfinder2 (setup.py) ... \u001b[?25ldone\n",
      "\u001b[?25h  Created wheel for feedfinder2: filename=feedfinder2-0.0.4-py3-none-any.whl size=3342 sha256=e392cf0ad30b32880a65c9be0c15dc7463e445e94328d7d1bf0d22777082420e\n",
      "  Stored in directory: /home/baekkwsl/.cache/pip/wheels/97/02/e7/a1ff1760e12bdbaab0ac824fae5c1bc933e41c4ccd6a8f8edb\n",
      "  Building wheel for jieba3k (setup.py) ... \u001b[?25ldone\n",
      "\u001b[?25h  Created wheel for jieba3k: filename=jieba3k-0.35.1-py3-none-any.whl size=7398380 sha256=efc1c28aa44e057fba05c5ed07ee9d5be4a107416f12d11522d6fe7a8f1e7788\n",
      "  Stored in directory: /home/baekkwsl/.cache/pip/wheels/7a/c4/0c/12a9a314ecac499456c4c3b2fcc2f635a3b45a39dfbd240299\n",
      "  Building wheel for sgmllib3k (setup.py) ... \u001b[?25ldone\n",
      "\u001b[?25h  Created wheel for sgmllib3k: filename=sgmllib3k-1.0.0-py3-none-any.whl size=6047 sha256=93777949408c3bb9bf684744a55cc223c08b1ca2dc19ba403c3384949d95ee94\n",
      "  Stored in directory: /home/baekkwsl/.cache/pip/wheels/f0/69/93/a47e9d621be168e9e33c7ce60524393c0b92ae83cf6c6e89c5\n",
      "Successfully built tinysegmenter feedfinder2 jieba3k sgmllib3k\n",
      "Installing collected packages: tinysegmenter, sgmllib3k, jieba3k, feedparser, cssselect, requests-file, feedfinder2, tldextract, newspaper3k\n",
      "Successfully installed cssselect-1.2.0 feedfinder2-0.0.4 feedparser-6.0.11 jieba3k-0.35.1 newspaper3k-0.2.8 requests-file-2.1.0 sgmllib3k-1.0.0 tinysegmenter-0.3 tldextract-5.1.2\n"
     ]
    }
   ],
   "source": [
    "!pip3 install gensim==3.6.0\n",
    "!pip install gensim newspaper3k"
   ]
  },
  {
   "cell_type": "code",
   "execution_count": 28,
   "id": "1682a4c9-e2ca-4137-bc56-e7230eb30629",
   "metadata": {},
   "outputs": [],
   "source": [
    "import json\n",
    "from tqdm.auto import tqdm\n",
    "import re\n",
    "from transformers import AutoTokenizer, AutoModelForSeq2SeqLM\n",
    "from transformers import AutoTokenizer, AutoModelForCausalLM, BitsAndBytesConfig\n",
    "from peft import PeftModel\n",
    "import torch\n",
    "import os"
   ]
  },
  {
   "cell_type": "code",
   "execution_count": 44,
   "id": "882d57b6-ae37-4215-8100-ba57b8c9ba88",
   "metadata": {},
   "outputs": [
    {
     "name": "stdout",
     "output_type": "stream",
     "text": [
      "The token has not been saved to the git credentials helper. Pass `add_to_git_credential=True` in this function directly or `--add-to-git-credential` if using via `huggingface-cli` if you want to set the git credential as well.\n",
      "Token is valid (permission: fineGrained).\n",
      "Your token has been saved to /home/baekkwsl/.cache/huggingface/token\n",
      "Login successful\n"
     ]
    }
   ],
   "source": [
    "from huggingface_hub import login\n",
    "\n",
    "#허깅페이스 액세스토큰\n",
    "hf_token = \"\"\n",
    "\n",
    "# 허깅페이스 로그인\n",
    "login(hf_token)"
   ]
  },
  {
   "cell_type": "code",
   "execution_count": 45,
   "id": "d38f2e22-4821-43b5-938c-7fa3ba8785a0",
   "metadata": {},
   "outputs": [],
   "source": [
    "# 1. JSON 데이터 로드\n",
    "with open('./data/combined_data.json', 'r') as f:\n",
    "    data = json.load(f)"
   ]
  },
  {
   "cell_type": "code",
   "execution_count": 46,
   "id": "2861b888-84b0-4e7f-872d-7029c75c28f8",
   "metadata": {},
   "outputs": [],
   "source": [
    "# 닉네임과 《 기준 왼쪽의 공백까지 제거하는 함수 정의\n",
    "def remove_nickname(text):\n",
    "    # 정규 표현식으로 닉네임과 《 앞 공백까지 모두 제거\n",
    "    return re.sub(r'\\s*[^《]*《', '', text)"
   ]
  },
  {
   "cell_type": "code",
   "execution_count": null,
   "id": "54151f5e-b1ba-4e76-8d50-0cc7ad8580d8",
   "metadata": {},
   "outputs": [],
   "source": []
  },
  {
   "cell_type": "code",
   "execution_count": null,
   "id": "708e8c95-69bd-452e-a271-f71f0b41564a",
   "metadata": {},
   "outputs": [],
   "source": []
  },
  {
   "cell_type": "code",
   "execution_count": 18,
   "id": "47b27272-2209-4c89-ad78-be31754bfe08",
   "metadata": {},
   "outputs": [],
   "source": [
    "#gensim을 이용\n",
    "\n",
    "from gensim.summarization import summarize\n",
    "\n",
    "# 댓글을 요약하는 함수 정의\n",
    "def summarize_comments(comments):\n",
    "    # 댓글 리스트를 하나의 문자열로 합치기\n",
    "    comments_text = ' '.join(comments)\n",
    "    try:\n",
    "        # gensim의 summarize 함수로 요약하기\n",
    "        summary = summarize(comments_text, word_count=100)\n",
    "    except ValueError:\n",
    "        # 텍스트가 너무 짧아서 요약이 불가능한 경우 원본 반환\n",
    "        summary = comments_text\n",
    "    return summary"
   ]
  },
  {
   "cell_type": "code",
   "execution_count": null,
   "id": "af1d6ae1-409a-49fb-ab52-4c1fe76ee776",
   "metadata": {},
   "outputs": [],
   "source": []
  },
  {
   "cell_type": "code",
   "execution_count": 19,
   "id": "0e644b3d-a7a1-4da6-ae74-2bc91c55ff6d",
   "metadata": {},
   "outputs": [],
   "source": [
    "# 크롤링한 데이터를 학습용 데이터셋으로 바꾸기 위함"
   ]
  },
  {
   "cell_type": "code",
   "execution_count": 49,
   "id": "ed5e24ca-c167-480b-a085-350c44fb0a6f",
   "metadata": {},
   "outputs": [
    {
     "data": {
      "application/vnd.jupyter.widget-view+json": {
       "model_id": "ce2c2866522d45a5af4c83fb67fdc7cb",
       "version_major": 2,
       "version_minor": 0
      },
      "text/plain": [
       "Processing Data:   0%|          | 0/5 [00:00<?, ?item/s]"
      ]
     },
     "metadata": {},
     "output_type": "display_data"
    },
    {
     "name": "stdout",
     "output_type": "stream",
     "text": [
      "좋아요\n",
      "@@@@\n",
      "돈 좀 쓰더라도 레드..\n",
      "@@@@\n",
      "제목: 라이벌이탭 체인 어떤가요?\n",
      "질문 내용: 소음이나 성능 어떤가요?\n",
      "요약된 답변: 2021년도 4월에 출시됬는데.. TT용 디스크휠은 신형 나왔던데.비슷한 시기의 휠들도 아직 신형 안나온거같아요스페셜,트렉 등등\n",
      "--------------------------------------------------\n",
      "랜도너스 아니면 솔라 필요없어요1040 솔라 사용중\n",
      "@@@@\n",
      "1050이요 일주 같은거 하시는게 아니라면 배터리 걱정될정도 아닌긋요\n",
      "@@@@\n",
      "당장필요하면 1040솔라좀 더 기다리는게 가능하시면 1050솔라 존버요.솔라 추천이유는 배터리 걱정에 좀 더 자유로울거같고1050은 장착할때 어떤 핸들바에는 너무 타이트하단 말도있고해서 50솔라는 좀 더 개선해서 나오지 않을까해서요\n",
      "@@@@\n",
      "1050\n",
      "@@@@\n",
      "1040 솔라 괜찮습니다 1050 이슈도 좀 있고 중고 1040솔라 가격 많이 낮아서 괜찮을 듯 합니다\n",
      "@@@@\n",
      "1040 썼었는데 구지 솔라까지 필요없습니다 1040도 배터리 좀비라 ㅎㅎ 전 1040추천\n",
      "@@@@\n",
      "1040이랑 1040솔라랑 차이점 중 하나가 마운트 재질입니다.솔라는 마운트하는 부분이 금속이고 1040논솔라는 금속이 아닙니다.가민 1000이랑 1030쓰면서 날개파손 두번 당해보니 솔라마운트 부분 보고 뒤도 안보고 솔라로 했습니다.\n",
      "@@@@\n",
      "1040번들인데 금속 맞아요\n",
      "@@@@\n",
      "1040솔라아닌것도 금속재질입니다. 이번1050이 다시플라스틱\n",
      "@@@@\n",
      "핫?? 제가 잘못본거군요. 1040도 괜찮네요 ㅎㅎ 이래되면 나는 왜...\n",
      "@@@@\n",
      "제가 잘 못 알았네요. 구매할때 논솔라가 플라스틱으로 봤는데 눈이 삐었나 봅니다.\n",
      "@@@@\n",
      "1050에서 다시 금속을 배제한게부러지지말라고 금속 했으더 마운트를 파 드시는 경우가 종종 있었나봄...최근엔 모두 교체가 어렵지 않은 플라스틱류로 나오죠\n",
      "@@@@\n",
      "1040솔라 사용하다 1050으로 왔는데 너무 만족합니다 벨소리, 경로 소리 안내, gps정확도 1040 솔라 보다는 확실히 개선된게 보입니다 배터리는 솔라 사용할 때도 100km 이상 라이딩 하면 습관적으로 충전해서 1050 배터리 시간도 큰 불만 없었습니다.\n",
      "@@@@\n",
      "아이폰 12 vs 아이폰 12 pro vs 아이폰 15인데..굳이 구형을 왜??\n",
      "@@@@\n",
      "1040솔라 사용 중입니다. 제가 사용하는 자전거 충전 용품은스램axs배터리,심박계,속도계,라이트(야간)그리고 매번 충전하는 앞 뒤 블박이있습니다.거기다가 와이프님 것도 X2 (다행히? di2) ..충전해야할것들 천지라 꼭 그런건 아니지만 대체로 배터리 긴 제품을 선호 합니다..830도 충분히 현역이라 생각되기때문에 1050 솔라 출시 예정이라면 저라면 1050 솔라 존버하겠습니다.\n",
      "@@@@\n",
      "최근 830에서 840솔라 변경하고 느낀점이..반나절 이상 라이딩시 배터리 오래가는게 느꺼지며 새벽라이딩이나 야간시엔 840 배터리가 더 빨리 떨어지는 느낌입니다.또한 경로보고 라이딩시 지도안의 경로가 눈에 확 띄질 않내요.경로없이 자주가던길 다니더라도 낮은업힐 다가올때 갑자기 업힐모드 변경되어 화면이 바뀌는대 이건 아직 적응안되어 불편합니다.다시 830 회귀를 고민중 이내요.\n",
      "@@@@\n",
      "베터리 타임때문에 1040솔라가끔 초장거리도 타는지라\n",
      "@@@@\n",
      "솔라 굳이 필요할까요? 설악그란폰도 완주, 김포-속초 완주, 노동당사 왕복 완주등등 하루종일 타도 배터리 앵꼬난적이 없는데... 뭐 충전할곳 없는 1박2일 라이딩 자주하시는분이면 필요하긴 하겠네요\n",
      "@@@@\n",
      "제목: 가민 1040 vs 1040솔라 vs 1050 선택은??\n",
      "질문 내용: 속도계 좀 바꿀가 하는데 (830 쓰는중..)뭐가 나을가요?늙어 가는중이라 노안이 오는건지… 큰게 나을거 깉은데..1050 솔라까지 기댕겨야 되는지…도움 좀 주세요 … ㅠ\n",
      "요약된 답변: 2021년도 4월에 출시됬는데.. TT용 디스크휠은 신형 나왔던데.비슷한 시기의 휠들도 아직 신형 안나온거같아요스페셜,트렉 등등\n",
      "--------------------------------------------------\n",
      "캄파놀로 춘천요ㅋ내일 오전 11시에 추가접수하네요ㅎ\n",
      "@@@@\n",
      "지난주에 접수 종료요\n",
      "@@@@\n",
      "2차 추가접수입니다\n",
      "@@@@\n",
      "이미 신청완료... 감사합니다 ^^\n",
      "@@@@\n",
      "오!  그렇군요\n",
      "@@@@\n",
      "여수시자전거연맹 전화 한 번 해보시죠.여수그란폰도\n",
      "@@@@\n",
      "제목: 이제 올해 신청할 수 있는 그란폰도는 없는 것 같죠?\n",
      "질문 내용: 이제는 없는 것 같아보이는데..혹시 예정이거나 관련 정보 있으시면 공유 부탁드립니다.미리 감사드립니다 ^^\n",
      "요약된 답변: 2021년도 4월에 출시됬는데.. TT용 디스크휠은 신형 나왔던데.비슷한 시기의 휠들도 아직 신형 안나온거같아요스페셜,트렉 등등\n",
      "--------------------------------------------------\n",
      "지금 도싸 중고 장터에 비슷한 사양이 올라와있는데...안 팔리는거 보니깐.. 그 금액보다 더 낮게 측정하셔야 팔릴듯합니다.듀라 11단 DI2라는 전제하에서요.\n",
      "@@@@\n",
      "듀라 11단 di2 입니다.\n",
      "@@@@\n",
      "사진으로만 봐선 울테 기계식으로 보이는데요?\n",
      "@@@@\n",
      "본글에 적어놨듯이 예전에 찍은 사진이고 지금은 사진과 구성이 다릅니다.\n",
      "@@@@\n",
      "그렇군요\n",
      "@@@@\n",
      "구동계가 9170라면 350이 적당한듯 합니다. 2년만에 두 세대가 나오면서 풀체인지로 시세가 많이 내려가는중이에요\n",
      "@@@@\n",
      "고견 감사합니다.\n",
      "@@@@\n",
      "제목: 마돈 중고가 책정 도와주세요.\n",
      "질문 내용: 제목과 같이 마돈 중고가 책정 좀 부탁드립니다.중고장터 자전거 가격도 많이 떨어진 상태이기도 하고 감이 전혀 오질 않아서 여쭙니다.모  델 : 19년 마돈 6세대사이즈 : 54휠   : 아비아브 아데온 2세대구동계 : 이전세대 풀 듀라에이스기  타 : 흠집은 낙차한적이 없어서 특별한 것은 없고 마돈 고질병으로 찍힘 하나 있음위 내용의 자전거라면 가격을 어느정도 책정해야 될까요?※ 첨부된 사진은 예전에 찍은 사진이라 지금 구성과 다릅니다.고견 부탁드립니다.댓글에 대해 미리 감사 인사 올립니다.\n",
      "요약된 답변: 2021년도 4월에 출시됬는데.. TT용 디스크휠은 신형 나왔던데.비슷한 시기의 휠들도 아직 신형 안나온거같아요스페셜,트렉 등등\n",
      "--------------------------------------------------\n",
      "2021년도 4월에 출시됬는데.. TT용 디스크휠은 신형 나왔던데.비슷한 시기의 휠들도 아직 신형 안나온거같아요스페셜,트렉 등등\n",
      "@@@@\n",
      "제목: ZIPP NSW 신형 출시 정보 혹시 없나요?\n",
      "질문 내용: 니플 문제로 개선된 버전 말고요.완전 신형 NSW나 다르게 이름 붙을 신형 나온다는 정보나 카더라 없을까요?나온다는 찌라시 나올 시기가 된거 같은데, 감감 무소식이네요...\n",
      "요약된 답변: 2021년도 4월에 출시됬는데.. TT용 디스크휠은 신형 나왔던데.비슷한 시기의 휠들도 아직 신형 안나온거같아요스페셜,트렉 등등\n",
      "--------------------------------------------------\n"
     ]
    }
   ],
   "source": [
    "for item in tqdm(data[:5], desc=\"Processing Data\", unit=\"item\"):\n",
    "    title = item.get('title', '')\n",
    "    content = item.get('content', '')\n",
    "    comments = item.get('comments', [])\n",
    "\n",
    "    for com in comments:\n",
    "        print(remove_nickname(com))\n",
    "        print(\"@@@@\")\n",
    "    # 댓글이 리스트인지 확인하고 닉네임 제거 후 문자열로 결합\n",
    "    #if isinstance(comments, list):\n",
    "    #    cleaned_comments = ' '.join([remove_nickname(comment) for comment in comments])\n",
    "    #else:\n",
    "    #    cleaned_comments = remove_nickname(comments)\n",
    "\n",
    "    # 결과 출력\n",
    "    print(f\"제목: {title}\")\n",
    "    print(f\"질문 내용: {content}\")\n",
    "    print(f\"요약된 답변: {cleaned_comments}\")\n",
    "    print('-' * 50)"
   ]
  },
  {
   "cell_type": "code",
   "execution_count": null,
   "id": "f8850e3d-97e8-4e66-a04e-d6efc6862712",
   "metadata": {},
   "outputs": [],
   "source": []
  }
 ],
 "metadata": {
  "kernelspec": {
   "display_name": "Python 3 (ipykernel)",
   "language": "python",
   "name": "python3"
  },
  "language_info": {
   "codemirror_mode": {
    "name": "ipython",
    "version": 3
   },
   "file_extension": ".py",
   "mimetype": "text/x-python",
   "name": "python",
   "nbconvert_exporter": "python",
   "pygments_lexer": "ipython3",
   "version": "3.10.14"
  },
  "widgets": {
   "application/vnd.jupyter.widget-state+json": {
    "state": {},
    "version_major": 2,
    "version_minor": 0
   }
  }
 },
 "nbformat": 4,
 "nbformat_minor": 5
}
