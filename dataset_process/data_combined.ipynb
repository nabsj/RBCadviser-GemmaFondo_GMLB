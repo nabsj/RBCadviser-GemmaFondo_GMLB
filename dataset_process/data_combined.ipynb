{
 "cells": [
  {
   "cell_type": "code",
   "execution_count": 2,
   "id": "3f2fb41e-7c54-4e76-bad9-c7da9cf0528f",
   "metadata": {},
   "outputs": [],
   "source": [
    "import pandas as pd\n",
    "from datasets import Dataset, DatasetDict\n",
    "import os\n",
    "import json"
   ]
  },
  {
   "cell_type": "code",
   "execution_count": 26,
   "id": "5ef3b2f8-869b-4076-8368-a1b1cb99e8be",
   "metadata": {},
   "outputs": [],
   "source": [
    "#Kin-data"
   ]
  },
  {
   "cell_type": "code",
   "execution_count": 31,
   "id": "320e72c9-5219-4620-8242-337c721a46a0",
   "metadata": {},
   "outputs": [
    {
     "data": {
      "text/html": [
       "<div>\n",
       "<style scoped>\n",
       "    .dataframe tbody tr th:only-of-type {\n",
       "        vertical-align: middle;\n",
       "    }\n",
       "\n",
       "    .dataframe tbody tr th {\n",
       "        vertical-align: top;\n",
       "    }\n",
       "\n",
       "    .dataframe thead th {\n",
       "        text-align: right;\n",
       "    }\n",
       "</style>\n",
       "<table border=\"1\" class=\"dataframe\">\n",
       "  <thead>\n",
       "    <tr style=\"text-align: right;\">\n",
       "      <th></th>\n",
       "      <th>제목</th>\n",
       "      <th>질문</th>\n",
       "      <th>답변</th>\n",
       "    </tr>\n",
       "  </thead>\n",
       "  <tbody>\n",
       "    <tr>\n",
       "      <th>0</th>\n",
       "      <td>kt 인터넷 설치 지원받는 방법이요</td>\n",
       "      <td>kt 핸드폰을 가족들이 많이 사용해서 kt 인터넷 설치하려고 합니다.  kt 인터넷...</td>\n",
       "      <td>kt 인터넷 설치 어디서 하면 좋을지 알아보고 계시네요.제가 오래전부터 매우 만족하...</td>\n",
       "    </tr>\n",
       "    <tr>\n",
       "      <th>1</th>\n",
       "      <td>쌍둥이유모차 추천해주세요</td>\n",
       "      <td>쌍둥이유모차 추천해주세요 할인을 특별히 많이해주는 곳은 없을까요?</td>\n",
       "      <td>안녕하세요 유모차라이너 관련해서 답변남겨드릴게요.coupang사의 실시간 순위를 이...</td>\n",
       "    </tr>\n",
       "    <tr>\n",
       "      <th>2</th>\n",
       "      <td>51kg 여자입니다. 제가 저희 언니를 안아올리려면 얼마나 운동해야 할까요? 내공 ...</td>\n",
       "      <td>언니는 휠체어를 탑니다. 언니를 데리고 많은 곳을 놀러가고 싶은데 제약이 너무 많아...</td>\n",
       "      <td>언니를 위하는 마음이 좋네요.님이 언니를 안아 올리고 업고 하는 건 근력이 있어야 ...</td>\n",
       "    </tr>\n",
       "    <tr>\n",
       "      <th>3</th>\n",
       "      <td>인터넷티비현금많이주는곳 있나요?</td>\n",
       "      <td>안녕하세요 인터넷티비현금많이주는곳 있다고 들었는데 제가 알아보면 이상하게 다들 인터...</td>\n",
       "      <td>안녕하세요!설치 당일 최대 사은품 지급! 아닐 시 차액 120% 보상하는 '아정당'...</td>\n",
       "    </tr>\n",
       "    <tr>\n",
       "      <th>4</th>\n",
       "      <td>스트레스 없애는법 있나요?</td>\n",
       "      <td></td>\n",
       "      <td>매운 음식 먹기숨 찰 때까지 달리기 or 자전거 타기노래방 가서 고음 노래 부르기좋...</td>\n",
       "    </tr>\n",
       "    <tr>\n",
       "      <th>...</th>\n",
       "      <td>...</td>\n",
       "      <td>...</td>\n",
       "      <td>...</td>\n",
       "    </tr>\n",
       "    <tr>\n",
       "      <th>40920</th>\n",
       "      <td>대퇴골무혈성괴사</td>\n",
       "      <td>45살남성 입니다 대퇴골 무혈성괴사 진단받았씀니다 치료는 강압술 수술을받았씀니다 그...</td>\n",
       "      <td>\" 삶의 기쁨이 되고 희망이 되는 신발, 신발만 바꿔도 튼튼 100세! \"줄기세포는...</td>\n",
       "    </tr>\n",
       "    <tr>\n",
       "      <th>40921</th>\n",
       "      <td>방귀가 자주 나오는 이유가 뭔가요? 방귀가 너무 많이 나와요. (강동구 천호역 40...</td>\n",
       "      <td>방귀가 자주 나오는 이유가 뭔가요? 1년전부터 방귀가 너무 많이 나와요 원래 장도 ...</td>\n",
       "      <td></td>\n",
       "    </tr>\n",
       "    <tr>\n",
       "      <th>40922</th>\n",
       "      <td>척추분리증 운동</td>\n",
       "      <td>최근에 웨이트 운동을 하고 바닥에 있는 물병을 주우려다 허리를 못피겠어서 병원에 갔...</td>\n",
       "      <td>\" 삶의 기쁨이 되고 희망이 되는 신발, 신발만 바꿔도 튼튼 100세! \"1. 웨이...</td>\n",
       "    </tr>\n",
       "    <tr>\n",
       "      <th>40923</th>\n",
       "      <td>쿠팡이츠 전동스쿠터 전기자전거 추천부탁드립니다</td>\n",
       "      <td>근거리 자배달겸 짬짬이 쿠팡이츠하고싶어서 문의드립니다 마음은 시간적 체력적문제로 전...</td>\n",
       "      <td>자전거도로 이용하시려면 g7나 tx8프로, 전기자전거 종류로 추천드려요!참고하시면 ...</td>\n",
       "    </tr>\n",
       "    <tr>\n",
       "      <th>40924</th>\n",
       "      <td>로드자전거 입문 자전거 추천</td>\n",
       "      <td>로드자전거 입문하려는 자린이 입니다. 입문이지만 왠만한 업글 생각안하고 좀 오래 탈...</td>\n",
       "      <td>휠러 rwc 600 추천입니다.감가방어도 괜찮구요.------------------...</td>\n",
       "    </tr>\n",
       "  </tbody>\n",
       "</table>\n",
       "<p>40925 rows × 3 columns</p>\n",
       "</div>"
      ],
      "text/plain": [
       "                                                      제목  \\\n",
       "0                                    kt 인터넷 설치 지원받는 방법이요   \n",
       "1                                          쌍둥이유모차 추천해주세요   \n",
       "2      51kg 여자입니다. 제가 저희 언니를 안아올리려면 얼마나 운동해야 할까요? 내공 ...   \n",
       "3                                      인터넷티비현금많이주는곳 있나요?   \n",
       "4                                         스트레스 없애는법 있나요?   \n",
       "...                                                  ...   \n",
       "40920                                           대퇴골무혈성괴사   \n",
       "40921  방귀가 자주 나오는 이유가 뭔가요? 방귀가 너무 많이 나와요. (강동구 천호역 40...   \n",
       "40922                                           척추분리증 운동   \n",
       "40923                          쿠팡이츠 전동스쿠터 전기자전거 추천부탁드립니다   \n",
       "40924                                    로드자전거 입문 자전거 추천   \n",
       "\n",
       "                                                      질문  \\\n",
       "0      kt 핸드폰을 가족들이 많이 사용해서 kt 인터넷 설치하려고 합니다.  kt 인터넷...   \n",
       "1                   쌍둥이유모차 추천해주세요 할인을 특별히 많이해주는 곳은 없을까요?   \n",
       "2      언니는 휠체어를 탑니다. 언니를 데리고 많은 곳을 놀러가고 싶은데 제약이 너무 많아...   \n",
       "3      안녕하세요 인터넷티비현금많이주는곳 있다고 들었는데 제가 알아보면 이상하게 다들 인터...   \n",
       "4                                                          \n",
       "...                                                  ...   \n",
       "40920  45살남성 입니다 대퇴골 무혈성괴사 진단받았씀니다 치료는 강압술 수술을받았씀니다 그...   \n",
       "40921  방귀가 자주 나오는 이유가 뭔가요? 1년전부터 방귀가 너무 많이 나와요 원래 장도 ...   \n",
       "40922  최근에 웨이트 운동을 하고 바닥에 있는 물병을 주우려다 허리를 못피겠어서 병원에 갔...   \n",
       "40923  근거리 자배달겸 짬짬이 쿠팡이츠하고싶어서 문의드립니다 마음은 시간적 체력적문제로 전...   \n",
       "40924  로드자전거 입문하려는 자린이 입니다. 입문이지만 왠만한 업글 생각안하고 좀 오래 탈...   \n",
       "\n",
       "                                                      답변  \n",
       "0      kt 인터넷 설치 어디서 하면 좋을지 알아보고 계시네요.제가 오래전부터 매우 만족하...  \n",
       "1      안녕하세요 유모차라이너 관련해서 답변남겨드릴게요.coupang사의 실시간 순위를 이...  \n",
       "2      언니를 위하는 마음이 좋네요.님이 언니를 안아 올리고 업고 하는 건 근력이 있어야 ...  \n",
       "3      안녕하세요!설치 당일 최대 사은품 지급! 아닐 시 차액 120% 보상하는 '아정당'...  \n",
       "4      매운 음식 먹기숨 찰 때까지 달리기 or 자전거 타기노래방 가서 고음 노래 부르기좋...  \n",
       "...                                                  ...  \n",
       "40920  \" 삶의 기쁨이 되고 희망이 되는 신발, 신발만 바꿔도 튼튼 100세! \"줄기세포는...  \n",
       "40921                                                     \n",
       "40922  \" 삶의 기쁨이 되고 희망이 되는 신발, 신발만 바꿔도 튼튼 100세! \"1. 웨이...  \n",
       "40923  자전거도로 이용하시려면 g7나 tx8프로, 전기자전거 종류로 추천드려요!참고하시면 ...  \n",
       "40924  휠러 rwc 600 추천입니다.감가방어도 괜찮구요.------------------...  \n",
       "\n",
       "[40925 rows x 3 columns]"
      ]
     },
     "execution_count": 31,
     "metadata": {},
     "output_type": "execute_result"
    }
   ],
   "source": [
    "df_kin_data = pd.read_csv('./clean_data/crawling_result.csv').fillna(\"\")\n",
    "df_kin_data"
   ]
  },
  {
   "cell_type": "code",
   "execution_count": 32,
   "id": "f25aa14c-0f54-44ab-be86-27f84aaa9007",
   "metadata": {},
   "outputs": [],
   "source": [
    "kin_data = {\n",
    "    'instruction': [],\n",
    "    'output': [],\n",
    "    'url': []\n",
    "}"
   ]
  },
  {
   "cell_type": "code",
   "execution_count": 33,
   "id": "b011c365-d3be-44b7-986a-01b6b2f527f6",
   "metadata": {},
   "outputs": [
    {
     "data": {
      "text/plain": [
       "Dataset({\n",
       "    features: ['instruction', 'output', 'url'],\n",
       "    num_rows: 40925\n",
       "})"
      ]
     },
     "execution_count": 33,
     "metadata": {},
     "output_type": "execute_result"
    }
   ],
   "source": [
    "for idx in df_kin_data.index:\n",
    "    title = str(df_kin_data.loc[idx]['제목'])\n",
    "    question = str(df_kin_data.loc[idx]['질문'])\n",
    "    answer = str(df_kin_data.loc[idx]['답변'])\n",
    "\n",
    "    kin_data['instruction'].append(f\"{title},{question}\")\n",
    "    kin_data['output'].append(answer)\n",
    "    kin_data['url'].append(\"\")\n",
    "\n",
    "kin_dataset = Dataset.from_dict(kin_data)\n",
    "kin_dataset"
   ]
  },
  {
   "cell_type": "code",
   "execution_count": 67,
   "id": "be9efd78-a02f-4527-8f7c-c433bd17511b",
   "metadata": {},
   "outputs": [
    {
     "data": {
      "application/vnd.jupyter.widget-view+json": {
       "model_id": "6fd67d204fe74305abf3868abeb54e3e",
       "version_major": 2,
       "version_minor": 0
      },
      "text/plain": [
       "Uploading the dataset shards:   0%|          | 0/1 [00:00<?, ?it/s]"
      ]
     },
     "metadata": {},
     "output_type": "display_data"
    },
    {
     "data": {
      "application/vnd.jupyter.widget-view+json": {
       "model_id": "daf944d6c8754e808aba0d04b129ed8f",
       "version_major": 2,
       "version_minor": 0
      },
      "text/plain": [
       "Creating parquet from Arrow format:   0%|          | 0/41 [00:00<?, ?ba/s]"
      ]
     },
     "metadata": {},
     "output_type": "display_data"
    },
    {
     "data": {
      "text/plain": [
       "CommitInfo(commit_url='https://huggingface.co/datasets/seungjune/RBC_kin_data/commit/81b2d56fce0d901fe09bf3e8732314468688bbff', commit_message='Upload dataset', commit_description='', oid='81b2d56fce0d901fe09bf3e8732314468688bbff', pr_url=None, pr_revision=None, pr_num=None)"
      ]
     },
     "execution_count": 67,
     "metadata": {},
     "output_type": "execute_result"
    }
   ],
   "source": [
    "from datasets import load_dataset\n",
    "kin_dataset.push_to_hub('seungjune/RBC_kin_data')"
   ]
  },
  {
   "cell_type": "code",
   "execution_count": 42,
   "id": "1790dbbd-a089-4d41-971b-379af472d1cb",
   "metadata": {},
   "outputs": [],
   "source": [
    "# dossa_data"
   ]
  },
  {
   "cell_type": "code",
   "execution_count": 3,
   "id": "536fdff9-7936-4b4e-99a5-1de70045445d",
   "metadata": {},
   "outputs": [],
   "source": [
    "folder_path = './clean_data/clean/'\n",
    "\n",
    "json_files = [f for f in os.listdir(folder_path) if f.endswith('.json')] #폴더내의 모든 json\n",
    "\n",
    "lst_dossa_data = []"
   ]
  },
  {
   "cell_type": "code",
   "execution_count": 4,
   "id": "e75a7792-0ba5-46ed-b3ce-f64a6a000096",
   "metadata": {},
   "outputs": [],
   "source": [
    "# 각 JSON 파일에서 데이터를 읽어와 리스트에 추가\n",
    "for json_file in json_files:\n",
    "    file_path = os.path.join(folder_path, json_file)\n",
    "    with open(file_path, 'r') as f:\n",
    "        d = json.load(f)\n",
    "        lst_dossa_data.extend(d)  # 각 파일의 데이터를 합침"
   ]
  },
  {
   "cell_type": "code",
   "execution_count": 5,
   "id": "336d05f7-17d0-4ee0-adcb-61e8129e9aac",
   "metadata": {},
   "outputs": [
    {
     "data": {
      "text/plain": [
       "[{'instruction': '비전메트론 SL 45 휠셋 데칼을 구매하고 싶습니다. 알리에서 찾아봐도 없는데, 휠셋 데칼을 붙이신 분들은 어디서 구매하셨나요?',\n",
       "  'output': '비전메트론 SL 45의 공식 데칼은 없으며, 원래 있는 검정색 데칼이 기본입니다. 자전거 데칼 제작 업체를 이용하면 원하는 디자인으로 맞춤 제작이 가능합니다.',\n",
       "  'url': ''},\n",
       " {'instruction': '울테그라 체인과 ZTTO 체인 중 12단 체인을 선택할 경우, 울테그라 4만원과 알리발 ZTTO 레인보우 SLR 체인 3만원 중 어떤 것을 선택할까요? 변속 성능에서 차이가 많이 날까요? 현재 Di2를 사용 중입니다.',\n",
       "  'output': '울테그라 체인은 가격 차이가 만원에 불과하므로 정품을 선택하는 것이 좋습니다. 알리발 체인은 시간이 지나면서 늘어나는 경향이 있으며, KMC 체인도 문제가 발생할 수 있습니다. ZTTO 체인은 품질이 낮아 핀의 높이 편차가 눈에 띌 정도였습니다. 11단 체인에서도 그런 문제가 있었습니다. 따라서 시마노 정품을 사용하는 것이 안전합니다. 정품이 아닌 부품이나 소모품을 사용할 경우 문제가 발생할 수 있으니 주의해야 합니다.',\n",
       "  'url': ''},\n",
       " {'instruction': '타막 SL5 핸들바와 스템 호환성 문의  \\n타막 콤프 SL5 림브 모델을 타고 있습니다. 요즘 나오는 디스크 SL7이나 SL8 순정 스템과 핸들바 매물들이 있는데, 제 자전거에도 호환 가능한가요? 도움 부탁드립니다.',\n",
       "  'output': '타막 SL5와 SL7, SL8의 스템과 핸들바는 일반적으로 호환성이 있지만, 정확한 호환 여부는 길이, 각도, 클램프 직경 등을 고려해야 합니다. 또한, 각 모델의 프레임과 포지셔닝도 다를 수 있으니, 해당 모델의 스템과 핸들바의 규격을 확인한 후 구매하는 것이 좋습니다. 추가적으로, 전문가와 상담을 통해 확인하는 것을 추천합니다.',\n",
       "  'url': ''},\n",
       " {'instruction': '포크에서 달그닥 거리는 소리가 나서 확인해봤더니 이런 부품이 나왔습니다. 이 볼트는 어디에 쓰이는 건가요?',\n",
       "  'output': '해당 부품은 컴프리션 플러그 아래에 있는 너트일 가능성이 높습니다. 확인해보니 맞아서 잘 찾아서 조립했습니다. 감사합니다.',\n",
       "  'url': ''},\n",
       " {'instruction': '요즘 슈발베 원 타이어는 잘 사용되지 않나요? 몇 년 전부터 자전거 용품에 관심이 없어서 잘 모르겠는데, 예전에는 사천성, 슈발베 원, 비토리아 코르사 정도가 최상급 타이어로 알려져 있었습니다. 최근에 슈발베 원의 가격이 3만원대에 판매되는 것 같아서 궁금합니다. 그 사이에 다른 좋은 타이어들이 많이 출시되었나요?',\n",
       "  'output': '현재 슈발베 원은 슈발베 프로 원으로 대체되었습니다. 슈발베 원은 차상급 모델이며, 프로 원이 최상급 모델입니다. 슈발베의 제조 위치에 따라 가격 차이가 있을 수 있습니다. 최근에는 프로 원 에어로라는 신제품도 출시되었습니다. 비토리아 코르사의 경우도 넥스트라는 중간급 모델이 나왔습니다. 신형 타이어들이 계속 출시되고 있으니 참고하시기 바랍니다. 슈발베 프로 원은 성능 대비 가격이 우수하며, 에보루션 모델이 더 상급입니다. 슈발베 원은 무겁고 튼튼하여 많은 사용자들에게 만족스럽게 사용되고 있습니다.',\n",
       "  'url': ''}]"
      ]
     },
     "execution_count": 5,
     "metadata": {},
     "output_type": "execute_result"
    }
   ],
   "source": [
    "lst_dossa_data[:5]"
   ]
  },
  {
   "cell_type": "code",
   "execution_count": 63,
   "id": "e0a62d61-8c38-40b8-bbe1-73b497b5a82d",
   "metadata": {},
   "outputs": [],
   "source": [
    "# DatasetDict 형식에 맞게 데이터를 변환 (instruction, output, url 등의 열로 변환)\n",
    "dossa_data = {\n",
    "    'instruction': [],\n",
    "    'output': [],\n",
    "    'url': []\n",
    "}"
   ]
  },
  {
   "cell_type": "code",
   "execution_count": 64,
   "id": "4837b5e0-69d2-4425-b142-53f58d88370f",
   "metadata": {},
   "outputs": [],
   "source": [
    "def remove_nickname(text):\n",
    "    # 정규 표현식으로 닉네임과 《 앞 공백까지 모두 제거\n",
    "    return re.sub(r'\\s*[^《]*《', '', text)"
   ]
  },
  {
   "cell_type": "code",
   "execution_count": 65,
   "id": "4b29e8cd-cd91-46ae-8d23-5a86855c7586",
   "metadata": {},
   "outputs": [
    {
     "name": "stdout",
     "output_type": "stream",
     "text": [
      "Dataset({\n",
      "    features: ['instruction', 'output', 'url'],\n",
      "    num_rows: 61924\n",
      "})\n"
     ]
    }
   ],
   "source": [
    "for item in lst_dossa_data:\n",
    "    instruction = item['instruction']\n",
    "    output = item['output']\n",
    "    url = item.get('url', \"\")  # 'url'이 없으면 빈 문자열로 처리\n",
    "    \n",
    "    # 각 항목을 dataset_dict_format에 추가\n",
    "    dossa_data['instruction'].append(instruction)\n",
    "    dossa_data['output'].append(output)\n",
    "    dossa_data['url'].append(url)\n",
    "\n",
    "# Hugging Face Dataset으로 변환\n",
    "dossa_dataset = Dataset.from_dict(dossa_data)\n",
    "\n",
    "# 결과 확인\n",
    "print(dossa_dataset)"
   ]
  },
  {
   "cell_type": "code",
   "execution_count": 68,
   "id": "58128f68-42c9-42eb-a144-c12a62a16b20",
   "metadata": {},
   "outputs": [
    {
     "data": {
      "application/vnd.jupyter.widget-view+json": {
       "model_id": "8826275d79e3409c95e798567cf11e3b",
       "version_major": 2,
       "version_minor": 0
      },
      "text/plain": [
       "Uploading the dataset shards:   0%|          | 0/1 [00:00<?, ?it/s]"
      ]
     },
     "metadata": {},
     "output_type": "display_data"
    },
    {
     "data": {
      "application/vnd.jupyter.widget-view+json": {
       "model_id": "6a6a1618f0ab432bb14d3a69286138de",
       "version_major": 2,
       "version_minor": 0
      },
      "text/plain": [
       "Creating parquet from Arrow format:   0%|          | 0/62 [00:00<?, ?ba/s]"
      ]
     },
     "metadata": {},
     "output_type": "display_data"
    },
    {
     "data": {
      "text/plain": [
       "CommitInfo(commit_url='https://huggingface.co/datasets/seungjune/RBC_dossa_data/commit/f41a8ea27eb55ec64f499abdeca2290371c0e8ff', commit_message='Upload dataset', commit_description='', oid='f41a8ea27eb55ec64f499abdeca2290371c0e8ff', pr_url=None, pr_revision=None, pr_num=None)"
      ]
     },
     "execution_count": 68,
     "metadata": {},
     "output_type": "execute_result"
    }
   ],
   "source": [
    "from datasets import load_dataset\n",
    "dossa_dataset.push_to_hub('seungjune/RBC_dossa_data')"
   ]
  },
  {
   "cell_type": "code",
   "execution_count": null,
   "id": "7b669224-5d6e-46c3-88cd-6d1dc933e6ba",
   "metadata": {},
   "outputs": [],
   "source": []
  }
 ],
 "metadata": {
  "kernelspec": {
   "display_name": "Python 3 (ipykernel)",
   "language": "python",
   "name": "python3"
  },
  "language_info": {
   "codemirror_mode": {
    "name": "ipython",
    "version": 3
   },
   "file_extension": ".py",
   "mimetype": "text/x-python",
   "name": "python",
   "nbconvert_exporter": "python",
   "pygments_lexer": "ipython3",
   "version": "3.10.14"
  },
  "widgets": {
   "application/vnd.jupyter.widget-state+json": {
    "state": {},
    "version_major": 2,
    "version_minor": 0
   }
  }
 },
 "nbformat": 4,
 "nbformat_minor": 5
}
